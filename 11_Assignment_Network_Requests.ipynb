{
 "cells": [
  {
   "cell_type": "markdown",
   "metadata": {},
   "source": [
    "1. Create a program that allows you to search for images in gif format. The program should allow you to enter a search word. Using this word, search for GIFs using the Giphy API. As a result, print the links to the GIFs."
   ]
  },
  {
   "cell_type": "code",
   "execution_count": 1,
   "metadata": {},
   "outputs": [
    {
     "name": "stdout",
     "output_type": "stream",
     "text": [
      "GIFs links: https://giphy.com/gifs/subway-sverige-funny-cute-1zi2SFsjUwzB0at4h1\n",
      "GIFs links: https://giphy.com/gifs/mrw-smoothie-ketchup-KXBtTtm3kB8BO\n",
      "GIFs links: https://giphy.com/gifs/health-fruit-healthy-l1J3PCjCldwNc8ShG\n"
     ]
    }
   ],
   "source": [
    "import requests\n",
    "\n",
    "def search_gif():\n",
    "    # Request Parameters\n",
    "    params = {\n",
    "            \"api_key\": \"lrJ3G6E8uy8U7ClHkhkKKWUMFdt4JZok\",\n",
    "            \"q\": input(\"Enter search word: \"), # tomato\n",
    "            \"limit\": 3\n",
    "        }\n",
    "    resp = requests.get(\"https://api.giphy.com/v1/gifs/search\", params=params )\n",
    "    \n",
    "    # check status code and print links to the GIFs\n",
    "    if resp.status_code == 200:\n",
    "        data = resp.json()\n",
    "        gif_links = [item['url'] for item in data['data']]\n",
    "        for link in gif_links:\n",
    "            print(f'GIFs links: {link}')\n",
    "    else:\n",
    "        print(\"No found!\")\n",
    "\n",
    "search_gif()"
   ]
  },
  {
   "cell_type": "markdown",
   "metadata": {},
   "source": []
  }
 ],
 "metadata": {
  "kernelspec": {
   "display_name": "base",
   "language": "python",
   "name": "python3"
  },
  "language_info": {
   "codemirror_mode": {
    "name": "ipython",
    "version": 3
   },
   "file_extension": ".py",
   "mimetype": "text/x-python",
   "name": "python",
   "nbconvert_exporter": "python",
   "pygments_lexer": "ipython3",
   "version": "3.10.9"
  },
  "orig_nbformat": 4
 },
 "nbformat": 4,
 "nbformat_minor": 2
}
