{
 "cells": [
  {
   "cell_type": "markdown",
   "metadata": {},
   "source": [
    "1. Write a program that generates 26 text files named A.txt, B.txt, and so on up to Z.txt. To each file append a random number between 1 and 100. Create a summary file (summary.txt) that contains the name of the file and the number in that file: A.txt: 67 B.txt: 12...Z.txt: 98"
   ]
  },
  {
   "cell_type": "code",
   "execution_count": 22,
   "metadata": {},
   "outputs": [],
   "source": [
    "import random\n",
    "\n",
    "def generate_files():\n",
    "    summary_input = [(f'{chr(name)}.txt', random.randint(1, 100)) for name in range(ord('A'), ord('Z') + 1)]\n",
    "\n",
    "    with open('summary.txt', mode = 'w') as summary_file:\n",
    "        for file, random_number in summary_input:\n",
    "            # add random number\n",
    "            with open(file, mode = 'w') as add_number:\n",
    "                add_number.write(str(random_number))\n",
    "            # summary\n",
    "            summary_file.write(f'{file}: {random_number}\\n')\n",
    "\n",
    "generate_files()\n"
   ]
  },
  {
   "cell_type": "markdown",
   "metadata": {},
   "source": [
    "2. Create a file with some content. As example, you can take this one:\n",
    "\n",
    "“Lorem ipsum dolor sit amet, consectetur adipiscing elit, sed do eiusmod tempor incididunt ut labore et dolore magna aliqua. Ut enim ad minim veniam, quis nostrud exercitation ullamco laboris nisi ut aliquip ex ea commodo consequat. Duis aute irure dolor in reprehenderit in voluptate velit esse cillum dolore eu fugiat nulla pariatur. Excepteur sint occaecat cupidatat non proident, sunt in culpa qui officia deserunt mollit anim id est laborum”.\n",
    "\n",
    "Create a second file and copy the content of the first file to the second file in upper case."
   ]
  },
  {
   "cell_type": "code",
   "execution_count": 25,
   "metadata": {},
   "outputs": [],
   "source": [
    "with open('file1.txt', mode = 'w+') as file1, open('file2.txt', 'w') as file2:\n",
    "    file1.write('Lorem ipsum dolor sit amet, consectetur adipiscing elit, sed do eiusmod tempor incididunt ut labore et dolore magna aliqua. Ut enim ad minim veniam, quis nostrud exercitation ullamco laboris nisi ut aliquip ex ea commodo consequat. Duis aute irure dolor in reprehenderit in voluptate velit esse cillum dolore eu fugiat nulla pariatur. Excepteur sint occaecat cupidatat non proident, sunt in culpa qui officia deserunt mollit anim id est laborum')\n",
    "\n",
    "with open('file1.txt', mode = 'r') as file1, open('file2.txt', 'w') as file2:\n",
    "    data = file1.read()\n",
    "    file2.write(data.upper())"
   ]
  },
  {
   "cell_type": "markdown",
   "metadata": {},
   "source": [
    "3. Write a program that will simulate user scores in a game. Create a list with 5 players’ names after that simulate 100 rounds for each player. As a result of the game create a list with the player's name and score (0-1000 range). And save it to a CSV file. The file should look like this:\n",
    "\n",
    "Player name, Score\n",
    "\n",
    "Josh, 56\n",
    "\n",
    "Luke, 784\n",
    "\n",
    "Kate, 90\n",
    "\n",
    "Mark, 125\n",
    "\n",
    "Mary, 877\n",
    "\n",
    "Josh, 345"
   ]
  },
  {
   "cell_type": "code",
   "execution_count": 38,
   "metadata": {},
   "outputs": [],
   "source": [
    "import random\n",
    "import csv\n",
    "\n",
    "def simulate_raunds():\n",
    "    return [random.randint(0, 1000) for i in range(100)]\n",
    "    \n",
    "# list players\n",
    "player_name = ['Josh', 'Luke', 'Kate', 'Mark', 'Mary', 'Josh']\n",
    "\n",
    "# players and scores\n",
    "player_w_score = [(player, score) for player in player_name for score in simulate_raunds()]\n",
    "\n",
    "# write to csv file\n",
    "with open ('game.csv', mode = 'w') as file:\n",
    "    writer = csv.writer(file)\n",
    "    writer.writerow(['Player name', 'Score']) # header\n",
    "    writer.writerows(player_w_score)"
   ]
  },
  {
   "cell_type": "markdown",
   "metadata": {},
   "source": [
    "4. Write a script that reads the data from the previous CSV file and creates a new file called high_scores.csv where each row contains the player name and their highest score. The final score should be sorted by descending to the highest score. The output CSV file should look like this:\n",
    "\n",
    "Player name, Highest score\n",
    "Kate, 907\n",
    "Mary, 897\n",
    "Luke, 784\n",
    "Mark, 725\n",
    "Josh, 345"
   ]
  },
  {
   "cell_type": "code",
   "execution_count": 24,
   "metadata": {},
   "outputs": [],
   "source": [
    "import csv\n",
    "\n",
    "def read_game_file():\n",
    "    player_score = {}\n",
    "    with open('game.csv') as file:\n",
    "        reader = csv.reader(file)\n",
    "        next(reader, None) # skip header\n",
    "        for player_name, score in reader:\n",
    "            player_score[player_name] = max(player_score.get(player_name,0), int(score))\n",
    "    return player_score\n",
    "\n",
    "def highest_score_write(player_score):\n",
    "    sorted_score = sorted(player_score.items(), key=lambda item: item[1], reverse=True)\n",
    "    with open('highest_score.csv', mode = \"w\") as file:\n",
    "        writer = csv.writer(file)\n",
    "        writer.writerow([\"Player name\", \"Highest score\"])  # header\n",
    "        writer.writerows(sorted_score)\n",
    "\n",
    "data = read_game_file()\n",
    "highest_score_write(data)"
   ]
  }
 ],
 "metadata": {
  "kernelspec": {
   "display_name": "base",
   "language": "python",
   "name": "python3"
  },
  "language_info": {
   "codemirror_mode": {
    "name": "ipython",
    "version": 3
   },
   "file_extension": ".py",
   "mimetype": "text/x-python",
   "name": "python",
   "nbconvert_exporter": "python",
   "pygments_lexer": "ipython3",
   "version": "3.10.9"
  },
  "orig_nbformat": 4
 },
 "nbformat": 4,
 "nbformat_minor": 2
}
