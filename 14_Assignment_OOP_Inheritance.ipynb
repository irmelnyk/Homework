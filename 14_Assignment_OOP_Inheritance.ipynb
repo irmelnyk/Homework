{
 "cells": [
  {
   "cell_type": "markdown",
   "metadata": {},
   "source": [
    "1. Create a class Product with properties name, price, and quantity. Create a child class Book that inherits from Product and adds a property author and a method called read that prints information about the book."
   ]
  },
  {
   "cell_type": "code",
   "execution_count": 1,
   "metadata": {},
   "outputs": [
    {
     "name": "stdout",
     "output_type": "stream",
     "text": [
      "Book: Fiesta\n",
      "Price: 15.99\n",
      "Quantity: 11\n",
      "Author: Ernest Hemingway\n"
     ]
    }
   ],
   "source": [
    "class Product(object):\n",
    "    def __init__(self, name, price, quantity):\n",
    "        self.name = name\n",
    "        self.price = price\n",
    "        self.quantity = quantity\n",
    "\n",
    "class Book(Product):\n",
    "    def __init__(self, name, price, quantity, author):\n",
    "        super().__init__(name, price, quantity)\n",
    "        self.author = author\n",
    "\n",
    "    def read(self):\n",
    "        print(f'Book: {self.name}\\nPrice: {self.price}\\nQuantity: {self.quantity}\\nAuthor: {self.author}')\n",
    "\n",
    "# use\n",
    "book1 = Book(\"Fiesta\", 15.99, 11, \"Ernest Hemingway\")\n",
    "book1.read()   "
   ]
  },
  {
   "cell_type": "markdown",
   "metadata": {},
   "source": [
    "2. Create a class Restaurant with properties name, cuisine, and menu. The menu property should be a dictionary with keys being the dish name and values being the price. Create a child class FastFood that inherits from Restaurant and adds a property drive_thru (a boolean indicating whether the restaurant has a drive-thru or not) and a method called order which takes in the dish name and quantity and returns the total cost of the order. The method should also update the menu dictionary to subtract the ordered quantity from the available quantity. If the dish is not available or if the requested quantity is greater than the available quantity, the method should return a message indicating that the order cannot be fulfilled."
   ]
  },
  {
   "cell_type": "code",
   "execution_count": 7,
   "metadata": {},
   "outputs": [
    {
     "name": "stdout",
     "output_type": "stream",
     "text": [
      "25\n",
      "Requested quantity not available\n",
      "Dish not available\n"
     ]
    }
   ],
   "source": [
    "class Restaurant(object):\n",
    "    def __init__(self, name, cuisine, menu):\n",
    "        self.name = name\n",
    "        self.cuisine = cuisine\n",
    "        self.menu = menu\n",
    "\n",
    "class FastFood(Restaurant):\n",
    "    def __init__(self, name, cuisine, menu, drive_thru):\n",
    "        super().__init__(name, cuisine, menu)\n",
    "        self.drive_thru = drive_thru\n",
    "    \n",
    "    # order\n",
    "    def order(self, dish_name, quantity):\n",
    "        if dish_name in self.menu and quantity <= self.menu[dish_name]['quantity']:\n",
    "            price = self.menu[dish_name]['price']\n",
    "            self.menu[dish_name]['quantity'] -= quantity\n",
    "            return price * quantity\n",
    "        elif dish_name in self.menu and quantity > self.menu[dish_name]['quantity']:\n",
    "            return \"Requested quantity not available\"\n",
    "        else:\n",
    "            return \"Dish not available\"\n",
    "\n",
    "# menu input\n",
    "menu =  {\n",
    "    'burger': {'price': 5, 'quantity': 10},\n",
    "    'pizza': {'price': 10, 'quantity': 20},\n",
    "    'drink': {'price': 1, 'quantity': 15}\n",
    "}\n",
    "\n",
    "# use\n",
    "mc = FastFood('McDonalds', 'Fast Food', menu, True)\n",
    "\n",
    "print(mc.order('burger', 5)) # 25\n",
    "print(mc.order('burger', 15)) # Requested quantity not available\n",
    "print(mc.order('soup', 5)) # Dish not available"
   ]
  }
 ],
 "metadata": {
  "kernelspec": {
   "display_name": "base",
   "language": "python",
   "name": "python3"
  },
  "language_info": {
   "codemirror_mode": {
    "name": "ipython",
    "version": 3
   },
   "file_extension": ".py",
   "mimetype": "text/x-python",
   "name": "python",
   "nbconvert_exporter": "python",
   "pygments_lexer": "ipython3",
   "version": "3.10.9"
  },
  "orig_nbformat": 4
 },
 "nbformat": 4,
 "nbformat_minor": 2
}
