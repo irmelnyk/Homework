{
 "cells": [
  {
   "cell_type": "markdown",
   "metadata": {},
   "source": [
    "1. Write a decorator that ensures a function is only called by users with a specific role. Each function should have an user_type with a string type in kwargs. Example:\n",
    "@is_admin\n",
    "def show_customer_receipt(user_type: str):\n",
    "\n",
    " Some very dangerous operation\n",
    "\n",
    "show_customer_receipt(user_type='user')\n",
    "> ValueError: Permission denied\n",
    "\n",
    "show_customer_receipt(user_type='admin')\n",
    "> function pass as it should be"
   ]
  },
  {
   "cell_type": "code",
   "execution_count": 17,
   "metadata": {},
   "outputs": [
    {
     "name": "stdout",
     "output_type": "stream",
     "text": [
      "Permission denied\n"
     ]
    }
   ],
   "source": [
    "def is_admin(func):\n",
    "    def wrapper(user_type: str):\n",
    "        if user_type != 'admin':\n",
    "            raise ValueError('Permission denied')\n",
    "        return func(user_type)\n",
    "    return wrapper\n",
    "\n",
    "@is_admin\n",
    "def show_customer_receipt(user_type: str):\n",
    "    print(f\"Customer receipt shown for {user_type}\")\n",
    "\n",
    "user_type = input(\"Enter user type (admin/user): \")\n",
    "\n",
    "try:\n",
    "    show_customer_receipt(user_type)\n",
    "except ValueError as error_:\n",
    "    print(error_)"
   ]
  },
  {
   "cell_type": "markdown",
   "metadata": {},
   "source": [
    "2. Write a decorator that wraps a function in a try-except block and prints an error if any type of error has happened. Example\n",
    "\n",
    "@catch_errors\n",
    "\n",
    "def some_function_with_risky_operation(data):\n",
    "\n",
    "    print(data['key'])\n",
    "\n",
    "\n",
    "some_function_with_risky_operation({'foo': 'bar'})\n",
    "\n",
    "> Found 1 error during execution of your function: KeyError no such key as foo\n",
    "\n",
    "some_function_with_risky_operation({'key': 'bar'})\n",
    "\n",
    "> bar"
   ]
  },
  {
   "cell_type": "code",
   "execution_count": 26,
   "metadata": {},
   "outputs": [
    {
     "name": "stdout",
     "output_type": "stream",
     "text": [
      "Found 1 error during execution of your function: KeyError 'key'\n",
      "bar\n"
     ]
    }
   ],
   "source": [
    "def catch_errors(func):\n",
    "    def wrapper(*args, **kwargs):\n",
    "        try:\n",
    "            return func(*args, **kwargs)\n",
    "        except Exception as e:\n",
    "            print(f\"Found 1 error during execution of your function: {type(e).__name__} {str(e)}\")\n",
    "    return wrapper\n",
    "\n",
    "@catch_errors\n",
    "def some_function_with_risky_operation(data):\n",
    "    print(data['key'])\n",
    "\n",
    "some_function_with_risky_operation({'foo': 'bar'})\n",
    "some_function_with_risky_operation({'key': 'bar'})\n"
   ]
  },
  {
   "cell_type": "markdown",
   "metadata": {},
   "source": [
    "4. Optional: Create a function that caches the result of a function, so that if it is called with the same argument multiple times, it returns the cached result first instead of re-executing the function."
   ]
  },
  {
   "cell_type": "code",
   "execution_count": 43,
   "metadata": {},
   "outputs": [
    {
     "name": "stdout",
     "output_type": "stream",
     "text": [
      "calculation for 8: \n",
      "10\n",
      "10\n",
      "10\n",
      "10\n",
      "10\n"
     ]
    }
   ],
   "source": [
    "def cache_func(func):\n",
    "    cache = {}\n",
    "    def cache_(*args):\n",
    "        if args in cache:\n",
    "            return cache[args]\n",
    "        else:\n",
    "            result = func(*args)\n",
    "            cache[args] = result\n",
    "            return result\n",
    "    return cache_\n",
    "\n",
    "@cache_func\n",
    "def add_two(x):\n",
    "    print(f\"calculation for {x}: \")\n",
    "    return x + 2\n",
    "\n",
    "#call the function with the same argument 5 times\n",
    "for i in range(5): \n",
    "    i = 8 \n",
    "    print(add_two(i))"
   ]
  }
 ],
 "metadata": {
  "kernelspec": {
   "display_name": "base",
   "language": "python",
   "name": "python3"
  },
  "language_info": {
   "codemirror_mode": {
    "name": "ipython",
    "version": 3
   },
   "file_extension": ".py",
   "mimetype": "text/x-python",
   "name": "python",
   "nbconvert_exporter": "python",
   "pygments_lexer": "ipython3",
   "version": "3.10.9"
  },
  "orig_nbformat": 4
 },
 "nbformat": 4,
 "nbformat_minor": 2
}
