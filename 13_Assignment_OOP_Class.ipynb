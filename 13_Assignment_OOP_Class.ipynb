{
 "cells": [
  {
   "cell_type": "markdown",
   "metadata": {},
   "source": [
    "1. Create add method to add two countries together. This method should create another country object with the name of the two countries combined and the population of the two countries added together.\n",
    "\n",
    "```\n",
    "\n",
    "bosnia = Country('Bosnia', 10_000_000)\n",
    "\n",
    "herzegovina = Country('Herzegovina', 5_000_000)\n",
    "\n",
    "bosnia_herzegovina = bosnia.add(herzegovina)\n",
    "\n",
    "bosnia_herzegovina.population -> 15_000_000\n",
    "\n",
    "bosnia_herzegovina.name -> 'Bosnia Herzegovina'"
   ]
  },
  {
   "cell_type": "code",
   "execution_count": 9,
   "metadata": {},
   "outputs": [
    {
     "name": "stdout",
     "output_type": "stream",
     "text": [
      "name: Bosnia Herzegovina, population: 15000000\n"
     ]
    }
   ],
   "source": [
    "class Country:\n",
    "    def __init__(self, name: str, population: int):\n",
    "        self.name = name\n",
    "        self.population = population\n",
    "    # combine 2 countries\n",
    "    def add(self, country2):\n",
    "        two_name_combine = f'{self.name} {country2.name}'\n",
    "        sum_population = self.population + country2.population\n",
    "        return Country(two_name_combine, sum_population)\n",
    "# use\n",
    "bosnia = Country('Bosnia', 10_000_000)\n",
    "herzegovina = Country('Herzegovina', 5_000_000)\n",
    "\n",
    "bosnia_herzegovina = bosnia.add(herzegovina)\n",
    "print(f'name: {bosnia_herzegovina.name}, population: {bosnia_herzegovina.population}')"
   ]
  },
  {
   "cell_type": "markdown",
   "metadata": {},
   "source": [
    "2. Implement the previous method with a magic method\n",
    "```\n",
    "bosnia = Country('Bosnia', 10_000_000)\n",
    "herzegovina = Country('Herzegovina', 5_000_000)\n",
    "bosnia_herzegovina = bosnia + herzegovina\n",
    "bosnia_herzegovina.population -> 15_000_000\n",
    "bosnia_herzegovina.name -> 'Bosnia Herzegovina'\n",
    "```"
   ]
  },
  {
   "cell_type": "code",
   "execution_count": 10,
   "metadata": {},
   "outputs": [
    {
     "name": "stdout",
     "output_type": "stream",
     "text": [
      "name: Bosnia Herzegovina, population: 15000000\n"
     ]
    }
   ],
   "source": [
    "class Country:\n",
    "    def __init__(self, name, population):\n",
    "        self.name = name\n",
    "        self.population = population\n",
    "    # combine 2 countries\n",
    "    def __add__(self, country2):\n",
    "        two_name_combine = f\"{self.name} {country2.name}\"\n",
    "        sum_population = self.population + country2.population\n",
    "        return Country(two_name_combine, sum_population)\n",
    "# use\n",
    "bosnia = Country('Bosnia', 10_000_000)\n",
    "herzegovina = Country('Herzegovina', 5_000_000)\n",
    "\n",
    "bosnia_herzegovina = bosnia + herzegovina\n",
    "print(f'name: {bosnia_herzegovina.name}, population: {bosnia_herzegovina.population}')"
   ]
  },
  {
   "cell_type": "markdown",
   "metadata": {},
   "source": [
    "3. Create a Car class with the following attributes: brand, model, year, and speed. The Car class should have the following methods: accelerate, brake and display_speed. The accelerate method should increase the speed by 5, and the brake method should decrease the speed by 5. Remember that the speed cannot be negative."
   ]
  },
  {
   "cell_type": "code",
   "execution_count": 4,
   "metadata": {},
   "outputs": [
    {
     "name": "stdout",
     "output_type": "stream",
     "text": [
      "Current speed of Ford Puma: 50\n",
      "Current speed of Ford Puma: 40\n"
     ]
    }
   ],
   "source": [
    "class Car:\n",
    "    def __init__(self, brand, model, year, speed = 0):\n",
    "        self.brand = brand\n",
    "        self.model = model\n",
    "        self.year = year\n",
    "        self.speed = speed\n",
    "\n",
    "    def accelerate(self):\n",
    "        self.speed += 5\n",
    "        return self.speed\n",
    "\n",
    "    def brake(self):\n",
    "        if self.speed >= 5:\n",
    "            self.speed -= 5\n",
    "        else:\n",
    "            self.speed = 0\n",
    "            return self.speed\n",
    "\n",
    "    def display_speed(self):\n",
    "        print(f\"Current speed of {self.brand} {self.model}: {self.speed}\")\n",
    "\n",
    "# use\n",
    "car_test = Car(\"Ford\", \"Puma\", 2023)\n",
    "# Acclerate\n",
    "[car_test.accelerate() for _ in range(10)] # Acclerate 10 times\n",
    "car_test.display_speed()\n",
    "# Brake\n",
    "[car_test.brake() for _ in range(2)] # Brake 2 times\n",
    "car_test.display_speed()"
   ]
  }
 ],
 "metadata": {
  "kernelspec": {
   "display_name": "base",
   "language": "python",
   "name": "python3"
  },
  "language_info": {
   "codemirror_mode": {
    "name": "ipython",
    "version": 3
   },
   "file_extension": ".py",
   "mimetype": "text/x-python",
   "name": "python",
   "nbconvert_exporter": "python",
   "pygments_lexer": "ipython3",
   "version": "3.10.9"
  },
  "orig_nbformat": 4
 },
 "nbformat": 4,
 "nbformat_minor": 2
}
