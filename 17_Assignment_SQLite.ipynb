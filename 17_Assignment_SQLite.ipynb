{
 "cells": [
  {
   "cell_type": "markdown",
   "metadata": {},
   "source": [
    "HW: DB in Python\n",
    "\n",
    "Add models for student, subject and student_subject from previous lessons in SQLAlchemy.\n",
    "\n",
    "Find all students` name that visited 'English' classes.\n",
    "\n",
    "(Optional): Rewrite queries from the previous lesson using SQLAlchemy.\n"
   ]
  },
  {
   "cell_type": "code",
   "execution_count": 14,
   "metadata": {},
   "outputs": [],
   "source": [
    "import sqlite3\n",
    "conn = sqlite3.connect('database.db')"
   ]
  },
  {
   "cell_type": "code",
   "execution_count": 55,
   "metadata": {},
   "outputs": [
    {
     "data": {
      "text/plain": [
       "<sqlite3.Cursor at 0x7f17ef3e27c0>"
      ]
     },
     "execution_count": 55,
     "metadata": {},
     "output_type": "execute_result"
    }
   ],
   "source": [
    "# Add models for student, subject and student_subject from previous lessons in SQLAlchemy.\n",
    "# student table\n",
    "conn.execute(\"\"\"\n",
    "    CREATE TABLE IF NOT EXISTS student(\n",
    "        id INTEGER PRIMARY KEY AUTOINCREMENT,\n",
    "        name VARCHAR(50) NOT NULL,\n",
    "        age INT NOT NULL        \n",
    "    );\n",
    "\"\"\")\n",
    "\n",
    "# subject            \n",
    "conn.execute(\"\"\"\n",
    "    CREATE TABLE IF NOT EXISTS subject(\n",
    "        id INTEGER PRIMARY KEY AUTOINCREMENT,\n",
    "        name VARCHAR(50) NOT NULL       \n",
    "    );\n",
    "\"\"\")\n",
    "\n",
    "# student + subject          \n",
    "conn.execute(\"\"\"\n",
    "    CREATE TABLE IF NOT EXISTS student_subject(\n",
    "        id INTEGER PRIMARY KEY AUTOINCREMENT,\n",
    "        student_id INT,\n",
    "        subject_id INT,\n",
    "        FOREIGN KEY (student_id) REFERENCES student(id),\n",
    "        FOREIGN KEY (subject_id) REFERENCES subject(id)        \n",
    "    );\n",
    "\"\"\")"
   ]
  },
  {
   "cell_type": "code",
   "execution_count": 56,
   "metadata": {},
   "outputs": [
    {
     "data": {
      "text/plain": [
       "<sqlite3.Cursor at 0x7f17ef2e3a40>"
      ]
     },
     "execution_count": 56,
     "metadata": {},
     "output_type": "execute_result"
    }
   ],
   "source": [
    "# insert data into the student table\n",
    "values = [('Bill', 30),('John', 22),('Martina', 19)]\n",
    "query = \"INSERT INTO student(name, age) VALUES (?, ?)\"\n",
    "\n",
    "conn.executemany(query, values)"
   ]
  },
  {
   "cell_type": "code",
   "execution_count": 34,
   "metadata": {},
   "outputs": [
    {
     "data": {
      "text/plain": [
       "<sqlite3.Cursor at 0x7f17ef3e3840>"
      ]
     },
     "execution_count": 34,
     "metadata": {},
     "output_type": "execute_result"
    }
   ],
   "source": [
    "# insert data into the subject table\n",
    "values = [('Math',), ('Science',), ('History',)]\n",
    "cursor.executemany(\"INSERT INTO subject(name) VALUES (?)\", values)"
   ]
  },
  {
   "cell_type": "code",
   "execution_count": 39,
   "metadata": {},
   "outputs": [
    {
     "data": {
      "text/plain": [
       "<sqlite3.Cursor at 0x7f17ef2e1e40>"
      ]
     },
     "execution_count": 39,
     "metadata": {},
     "output_type": "execute_result"
    }
   ],
   "source": [
    "# insert data into the subject table\n",
    "conn.executemany(\"\"\"INSERT INTO student_subject(student_id, subject_id) VALUES (?, ?)\"\"\", [(1,1),(2,1), (3,3)])"
   ]
  },
  {
   "cell_type": "code",
   "execution_count": 54,
   "metadata": {},
   "outputs": [
    {
     "data": {
      "text/plain": [
       "<sqlite3.Cursor at 0x7f17ef2a7d40>"
      ]
     },
     "execution_count": 54,
     "metadata": {},
     "output_type": "execute_result"
    }
   ],
   "source": [
    "conn.execute(\"\"\"DROP TABLE student\"\"\")"
   ]
  },
  {
   "cell_type": "code",
   "execution_count": 61,
   "metadata": {},
   "outputs": [
    {
     "data": {
      "text/plain": [
       "[(1, 'Bill'), (2, 'John')]"
      ]
     },
     "execution_count": 61,
     "metadata": {},
     "output_type": "execute_result"
    }
   ],
   "source": [
    "# Find all students` name that visited 'English' classes.\n",
    "cursor = conn.cursor()\n",
    "query = \"\"\"\n",
    "    SELECT s.id, s.name \n",
    "    FROM student AS s\n",
    "    JOIN student_subject AS ss ON s.id = ss.student_id\n",
    "    WHERE ss.subject_id = (SELECT id FROM subject WHERE name = 'English')\n",
    "    \"\"\"\n",
    "\n",
    "cursor.execute(query)\n",
    "cursor.fetchall()"
   ]
  }
 ],
 "metadata": {
  "kernelspec": {
   "display_name": "base",
   "language": "python",
   "name": "python3"
  },
  "language_info": {
   "codemirror_mode": {
    "name": "ipython",
    "version": 3
   },
   "file_extension": ".py",
   "mimetype": "text/x-python",
   "name": "python",
   "nbconvert_exporter": "python",
   "pygments_lexer": "ipython3",
   "version": "3.10.9"
  },
  "orig_nbformat": 4
 },
 "nbformat": 4,
 "nbformat_minor": 2
}
